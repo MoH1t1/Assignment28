{
  "metadata": {
    "kernelspec": {
      "name": "python",
      "display_name": "Python (Pyodide)",
      "language": "python"
    },
    "language_info": {
      "codemirror_mode": {
        "name": "python",
        "version": 3
      },
      "file_extension": ".py",
      "mimetype": "text/x-python",
      "name": "python",
      "nbconvert_exporter": "python",
      "pygments_lexer": "ipython3",
      "version": "3.8"
    }
  },
  "nbformat_minor": 4,
  "nbformat": 4,
  "cells": [
    {
      "cell_type": "code",
      "source": "# Q1. What are the three measures of central tendency?\n\nMean, Median, Mode.",
      "metadata": {
        "trusted": true
      },
      "outputs": [],
      "execution_count": null
    },
    {
      "cell_type": "code",
      "source": "# Q2. What is the difference between the mean, median, and mode? How are they used to measure the\n# central tendency of a dataset?\n\nMean: Average of all data points.\nMedian: Middle value when data is ordered.\nMode: Most frequent value.\nUse: They describe the \"center\" of the dataset, with each measure sensitive to different aspects of the data.",
      "metadata": {
        "trusted": true
      },
      "outputs": [],
      "execution_count": null
    },
    {
      "cell_type": "code",
      "source": "# Q3. Measure the three measures of central tendency for the given height data:\n# [178,177,176,177,178.2,178,175,179,180,175,178.9,176.2,177,172.5,178,176.5]\n\nMean: 177.6\nMedian: 177\nMode: 178",
      "metadata": {
        "trusted": true
      },
      "outputs": [],
      "execution_count": null
    },
    {
      "cell_type": "code",
      "source": "# Q4. Find the standard deviation for the given data:\n# [178,177,176,177,178.2,178,175,179,180,175,178.9,176.2,177,172.5,178,176.5]\n\nStandard deviation ≈ 1.44",
      "metadata": {
        "trusted": true
      },
      "outputs": [],
      "execution_count": null
    },
    {
      "cell_type": "code",
      "source": "# Q5. How are measures of dispersion such as range, variance, and standard deviation used to describe\n# the spread of a dataset? Provide an example.\n\nRange: Difference between max and min values.\nVariance: Average of squared deviations from the mean.\nStandard Deviation: Measures average deviation from the mean.\nExample: Variance in exam scores tells how spread out the scores are.",
      "metadata": {
        "trusted": true
      },
      "outputs": [],
      "execution_count": null
    },
    {
      "cell_type": "code",
      "source": "# Q6. What is a Venn diagram?\n\nA graphical representation of sets and their relationships, showing intersections and unions.",
      "metadata": {
        "trusted": true
      },
      "outputs": [],
      "execution_count": null
    },
    {
      "cell_type": "code",
      "source": "# Q7. For the two given sets A = (2,3,4,5,6,7) & B = (0,2,6,8,10). Find:\n# (i) A B\n# (ii) A ⋃ B\n\n(i) A ∩ B: {2, 6}\n(ii) A ∪ B: {0, 2, 3, 4, 5, 6, 7, 8, 10}",
      "metadata": {
        "trusted": true
      },
      "outputs": [],
      "execution_count": null
    },
    {
      "cell_type": "code",
      "source": "# Q8. What do you understand about skewness in data?\n\nIndicates the asymmetry of the data distribution. Right skewed means data leans to the left, and left skewed means data leans to the right.",
      "metadata": {
        "trusted": true
      },
      "outputs": [],
      "execution_count": null
    },
    {
      "cell_type": "code",
      "source": "# Q9. If a data is right skewed then what will be the position of median with respect to mean?\n\nIn right-skewed data, mean > median.",
      "metadata": {
        "trusted": true
      },
      "outputs": [],
      "execution_count": null
    },
    {
      "cell_type": "code",
      "source": "# Q10. Explain the difference between covariance and correlation. How are these measures used in\n# statistical analysis?\n\nCovariance: Measures the direction of the relationship between two variables.\nCorrelation: Measures both strength and direction, normalized between -1 and 1.",
      "metadata": {
        "trusted": true
      },
      "outputs": [],
      "execution_count": null
    },
    {
      "cell_type": "code",
      "source": "# Q11. What is the formula for calculating the sample mean? Provide an example calculation for a\n# dataset.\n\nMean= ∑X/n\nExample: For data [2, 4, 6], mean = (2+4+6)/3 = 4.",
      "metadata": {
        "trusted": true
      },
      "outputs": [],
      "execution_count": null
    },
    {
      "cell_type": "code",
      "source": "# Q12. For a normal distribution data what is the relationship between its measure of central tendency?\n\nFor a normal distribution, mean = median = mode.",
      "metadata": {
        "trusted": true
      },
      "outputs": [],
      "execution_count": null
    },
    {
      "cell_type": "code",
      "source": "# Q13. How is covariance different from correlation?\n\nCovariance: Measures relationship direction.\nCorrelation: Measures both strength and direction, normalized.",
      "metadata": {
        "trusted": true
      },
      "outputs": [],
      "execution_count": null
    },
    {
      "cell_type": "code",
      "source": "# Q14. How do outliers affect measures of central tendency and dispersion? Provide an example.\nCentral Tendency: Outliers distort the mean but not the median.\nDispersion: Outliers increase range, variance, and standard deviation.\nExample: A few extreme incomes in a dataset can increase the mean and standard deviation",
      "metadata": {
        "trusted": true
      },
      "outputs": [],
      "execution_count": null
    }
  ]
}